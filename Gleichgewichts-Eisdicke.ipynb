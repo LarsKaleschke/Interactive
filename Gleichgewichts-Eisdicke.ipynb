{
 "cells": [
  {
   "cell_type": "markdown",
   "metadata": {
    "slideshow": {
     "slide_type": "slide"
    }
   },
   "source": [
    "# Gleichgewichts-Eisdicke und ozeanischer Wärmefluss\n",
    "\n",
    "Wie hängen Meereisdicke und ozeanischer Wärmefluss zusammen?"
   ]
  },
  {
   "cell_type": "markdown",
   "metadata": {
    "slideshow": {
     "slide_type": "subslide"
    }
   },
   "source": [
    "## Ozeanischer Wärmefluss\n",
    "\n",
    " * Der Wärmefluss vom Ozean in das Eis $F$ wird bedingt durch turbulenten und diffusiven Wärmeaustausch und ist abhängig von Vermischung und Schichtungsstabilität. \n",
    "\n",
    " * Konvektion wird durch Wechselwirkungen von Strömungen mit der Bodentopographie, Windfelder an der Oberfläche (Ekmann-Pumping), sowie Abkühlung und Eintrag von Salz bei der Eisbildung begünstigt.\n",
    "\n",
    " * Direkte Messung der Turbulenz ist nur in-situ möglich.\n",
    "\n",
    " * Indirekte Abschätzung des Wärmeflusses aus Änderungen des ozeanischen Wärmeinhalts nach Vermischungs bzw. Konvektionsereignissen"
   ]
  },
  {
   "cell_type": "markdown",
   "metadata": {
    "slideshow": {
     "slide_type": "subslide"
    }
   },
   "source": [
    "Weiterführende Literatur:\n",
    "\n",
    "McPhee, M. G. (1992), Turbulent heat flux in the upper ocean under sea ice, J. Geophys. Res., 97(C4), 5365–5379, doi:10.1029/92JC00239.\n"
   ]
  },
  {
   "cell_type": "code",
   "execution_count": 1,
   "metadata": {
    "slideshow": {
     "slide_type": "slide"
    }
   },
   "outputs": [
    {
     "name": "stdout",
     "output_type": "stream",
     "text": [
      "Populating the interactive namespace from numpy and matplotlib\n"
     ]
    }
   ],
   "source": [
    "# Gleichgewichts-Eisdicke interaktives Rechenbeispiel\n",
    "# Drücke einmal Shift+Enter zum Initialisieren\n",
    "%pylab inline\n",
    "from ipywidgets import interact, FloatSlider\n",
    "\n",
    "# Globale Variablen / Konstanten\n",
    "k_s=0.2 #W/mK thermische Leitfähigkeit von Schnee\n",
    "k_i=2.1 #W/mK thermische Leitfähigkeit von Eis\n",
    "T_w=-2.0 # Temperatur des Ozeans am Gefrierpunkt\n",
    "t0=-40\n",
    "t1=0\n",
    "y_max=5 # Maximum der Y-Achse (Dicke)\n",
    "\n",
    "def plot_ice(T_s=-20,beta=0.15,F=10):\n",
    "    # Berechnungen der Gleichgewichts-Eisdicke\n",
    "    d_i=(T_w-T_s)/(F*(beta/k_s+1/k_i))\n",
    "    d_s=beta*d_i\n",
    "    T_i= (k_s*T_s/d_s+k_i*T_w/d_i)/(k_s/d_s+k_i/d_i)\n",
    "    # Plot\n",
    "    fig=figure(figsize=(14,7))\n",
    "    ax=fig.add_subplot(1,1,1)\n",
    "    X,Y=[ T_s, T_i, T_w , T_w],[ 0, d_s, d_s+d_i, y_max]\n",
    "    plot(X,Y, 'r-',lw=5)\n",
    "    layer(ax,0.0-0.5,0.5,'Atmosphäre ','#c0c0f0')\n",
    "    layer(ax,0.0,d_s,'Schnee: $d_s$=%1.2f m, $T_s=$%2.1f $^\\circ$C'%(d_s,T_s),'#f0f0f0')\n",
    "    layer(ax,d_s,d_i,'Meereis: $d_i$=%1.2f m '%(d_i),'#a0a0a0')\n",
    "    layer(ax,d_s+d_i,y_max-(d_s+d_i),r'Ozeanwärmefluss: $F_\\uparrow=$%2.1f W m$^{-2}$'%(F),'#5050f0')\n",
    "    xlim(t0,0)\n",
    "    ylim(y_max,-0.5)\n",
    "    xlabel('Temperatur $T$ [$^\\circ$C]',fontsize=20,color='r')\n",
    "    ylabel('y [m]',fontsize=20)\n",
    "    xticks(fontsize=20,color='r')\n",
    "    yticks(fontsize=20)\n",
    "\n",
    "def layer(ax,y,d,description,color):\n",
    "    xy=[[t0,y],[t1,y],[t1,y+d],[t0,y+d]]\n",
    "    poly = Polygon(xy, facecolor=color, edgecolor=color,alpha=1.0)\n",
    "    ax.add_patch(poly)\n",
    "    text(t0+1,y+d/2.0,description,bbox=dict(facecolor='#f0f0f0', edgecolor='#f0f0f0',alpha=0.5),fontsize=20)\n",
    "\n",
    "def start_model():\n",
    "    res=interact(plot_ice,T_s=FloatSlider(description=r\"$T_s$ [$^\\circ$C]\",value=-20,min=-40,max=-2.5,step=0.5),\n",
    "             beta=FloatSlider(description=r\"$\\beta=\\frac{d_s}{d_i}$\",value=0.15,min=0.0001,max=0.5,step=0.01),\n",
    "             F=FloatSlider(description=r\"$F$ [W m$^{-2}$]\",value=10,min=2,max=50,step=0.5))"
   ]
  },
  {
   "cell_type": "code",
   "execution_count": 2,
   "metadata": {
    "slideshow": {
     "slide_type": "slide"
    }
   },
   "outputs": [
    {
     "data": {
      "application/vnd.jupyter.widget-view+json": {
       "model_id": "a495a726c5d546bab7042f4ea66a63b6",
       "version_major": 2,
       "version_minor": 0
      },
      "text/html": [
       "<p>Failed to display Jupyter Widget of type <code>interactive</code>.</p>\n",
       "<p>\n",
       "  If you're reading this message in the Jupyter Notebook or JupyterLab Notebook, it may mean\n",
       "  that the widgets JavaScript is still loading. If this message persists, it\n",
       "  likely means that the widgets JavaScript library is either not installed or\n",
       "  not enabled. See the <a href=\"https://ipywidgets.readthedocs.io/en/stable/user_install.html\">Jupyter\n",
       "  Widgets Documentation</a> for setup instructions.\n",
       "</p>\n",
       "<p>\n",
       "  If you're reading this message in another frontend (for example, a static\n",
       "  rendering on GitHub or <a href=\"https://nbviewer.jupyter.org/\">NBViewer</a>),\n",
       "  it may mean that your frontend doesn't currently support widgets.\n",
       "</p>\n"
      ],
      "text/plain": [
       "interactive(children=(FloatSlider(value=-20.0, description='$T_s$ [$^\\\\circ$C]', max=-2.5, min=-40.0, step=0.5), FloatSlider(value=0.15, description='$\\\\beta=\\\\frac{d_s}{d_i}$', max=0.5, min=0.0001, step=0.01), FloatSlider(value=10.0, description='$F$ [W m$^{-2}$]', max=50.0, min=2.0, step=0.5), Output()), _dom_classes=('widget-interact',))"
      ]
     },
     "metadata": {},
     "output_type": "display_data"
    }
   ],
   "source": [
    "start_model() # Shift + Return zum Starten"
   ]
  },
  {
   "cell_type": "markdown",
   "metadata": {
    "slideshow": {
     "slide_type": "slide"
    }
   },
   "source": [
    "\n",
    "\n",
    "## Wärmeleitungs-Gleichung\n",
    "\n",
    "Annahmen: Stationarität, homogenes isotropes Medium, eindimensionaler Wärmefluss in y-Richtung \n",
    "\n",
    "$$ F=k\\frac{\\Delta T}{\\Delta y} $$\n",
    "\n",
    " * Konduktiver Wärmefluss $F$ [W/m$^2$]\n",
    " * Wärmeleitfähigkeit $k$ [W/(mK)]\n",
    " * Temperaturdifferenz $\\Delta T=T_0-T_s$\n",
    " * Schichtdicke $\\Delta y=d$ [m]"
   ]
  },
  {
   "cell_type": "markdown",
   "metadata": {
    "slideshow": {
     "slide_type": "slide"
    }
   },
   "source": [
    "## Zusammengesetztes Medium \n",
    "\n",
    "Zwei Komponenten\n",
    "\n",
    " * Eis der Dicke $d_i$ mit Leitfähigkeit $k_i$ \n",
    " * Schnee der Dicke $d_s$ mit Leitfähigkeit $k_s$\n",
    "\n",
    "bestimmen die Gesamtdicke $d=d_i+d_s$ des zusammengesetzen Mediums Schnee-Meereis mit der Gesamt-Leitfähigkeit $k$."
   ]
  },
  {
   "cell_type": "markdown",
   "metadata": {
    "slideshow": {
     "slide_type": "subslide"
    }
   },
   "source": [
    "Die Berechnung der Wärmeleitung geschieht in Analogie zum elektrischen Strom. Der Widerstand ist Kehrwert der Leitfähigkeit. Es gilt für eine Reihenschaltung, dass der Gesamtwiderstand die Summe der Einzelwiderstände beträgt:\n",
    "\n",
    "$$\\frac{d}{k}=\\frac{d_i}{k_i}+\\frac{d_s}{k_s}$$"
   ]
  },
  {
   "cell_type": "markdown",
   "metadata": {
    "slideshow": {
     "slide_type": "subslide"
    }
   },
   "source": [
    "Umformen nach $k=\\frac{d}{\\frac{d_i}{k_i}+\\frac{d_s}{k_s}}$ und Einsetzen ergibt:\n",
    "\n",
    "$$ F=\\frac{\\Delta T}{\\frac{d_i}{k_i}+\\frac{d_s}{k_s}} $$"
   ]
  },
  {
   "cell_type": "markdown",
   "metadata": {
    "slideshow": {
     "slide_type": "slide"
    }
   },
   "source": [
    "## Parametrisierung\n",
    "\n",
    "Wir nehmen an, dass die Schneedicke $d_s$ mit der Eisdicke $d_i$ über einen Faktor $\\beta$ zusammenhängt: \n",
    "\n",
    "$$d_s=\\beta d_i$$\n",
    "\n",
    "Die Annahme von $\\beta\\approx0.15$ ist durch Messungen der Schnee- und Meereisdicke empirisch gut begründet. "
   ]
  },
  {
   "cell_type": "markdown",
   "metadata": {
    "slideshow": {
     "slide_type": "subslide"
    }
   },
   "source": [
    "Worby, A. P. et al. (2008), Thickness distribution of Antarctic sea ice, J. Geophys. Res.\n",
    "\n",
    "<img src='Worby_2008_table3.png'> "
   ]
  },
  {
   "cell_type": "code",
   "execution_count": 3,
   "metadata": {
    "slideshow": {
     "slide_type": "fragment"
    }
   },
   "outputs": [
    {
     "data": {
      "text/plain": [
       "0.1506849315068493"
      ]
     },
     "execution_count": 3,
     "metadata": {},
     "output_type": "execute_result"
    }
   ],
   "source": [
    "0.11 / 0.73 # Weddell (east)"
   ]
  },
  {
   "cell_type": "markdown",
   "metadata": {
    "slideshow": {
     "slide_type": "subslide"
    }
   },
   "source": [
    "<img src='Worby_map.png'> "
   ]
  },
  {
   "cell_type": "markdown",
   "metadata": {
    "slideshow": {
     "slide_type": "slide"
    }
   },
   "source": [
    "## Berechnung der Eisdicke\n",
    "\n",
    "Umformen ergibt die Eisdicke im stationären Zustand:\n",
    "\n",
    "$$d_i=\\frac{\\Delta T}{F ( \\frac{\\beta}{k_s}+\\frac{1}{k_i})} $$\n",
    "\n",
    "Annahme: konduktiver Wärmefluss ist gleich ozeanischer Wärmefluss $F$ (Stationarität)."
   ]
  },
  {
   "cell_type": "markdown",
   "metadata": {
    "slideshow": {
     "slide_type": "subslide"
    }
   },
   "source": [
    "## Grenzschichttemperatur\n",
    "\n",
    "Die Grenzschichttemperatur Eis-Schnee $T_i$ errechnet sich aus Gleichsetzen der Wärmeflüsse durch Eis und Schnee. Mit Temperatur der Schneeoberfläche $T_s$ und Temperatur an der Eisunterseite $T_w=-2^\\circ$C am Gefrierpunkt (konstant) ergibt sich:\n",
    "\n",
    "$$ T_i  = \\frac{\\frac{k_s T_s}{d_s}+\\frac{k_i T_w}{d_i}}{\\frac{k_s }{d_s}+  \\frac{k_i}{d_i}}$$\n",
    "\n",
    "\n"
   ]
  },
  {
   "cell_type": "code",
   "execution_count": 4,
   "metadata": {
    "slideshow": {
     "slide_type": "slide"
    }
   },
   "outputs": [
    {
     "data": {
      "application/vnd.jupyter.widget-view+json": {
       "model_id": "8634670d644c4baf94a93b16ad0cb5d8",
       "version_major": 2,
       "version_minor": 0
      },
      "text/html": [
       "<p>Failed to display Jupyter Widget of type <code>interactive</code>.</p>\n",
       "<p>\n",
       "  If you're reading this message in the Jupyter Notebook or JupyterLab Notebook, it may mean\n",
       "  that the widgets JavaScript is still loading. If this message persists, it\n",
       "  likely means that the widgets JavaScript library is either not installed or\n",
       "  not enabled. See the <a href=\"https://ipywidgets.readthedocs.io/en/stable/user_install.html\">Jupyter\n",
       "  Widgets Documentation</a> for setup instructions.\n",
       "</p>\n",
       "<p>\n",
       "  If you're reading this message in another frontend (for example, a static\n",
       "  rendering on GitHub or <a href=\"https://nbviewer.jupyter.org/\">NBViewer</a>),\n",
       "  it may mean that your frontend doesn't currently support widgets.\n",
       "</p>\n"
      ],
      "text/plain": [
       "interactive(children=(FloatSlider(value=-20.0, description='$T_s$ [$^\\\\circ$C]', max=-2.5, min=-40.0, step=0.5), FloatSlider(value=0.15, description='$\\\\beta=\\\\frac{d_s}{d_i}$', max=0.5, min=0.0001, step=0.01), FloatSlider(value=10.0, description='$F$ [W m$^{-2}$]', max=50.0, min=2.0, step=0.5), Output()), _dom_classes=('widget-interact',))"
      ]
     },
     "metadata": {},
     "output_type": "display_data"
    }
   ],
   "source": [
    "start_model()"
   ]
  },
  {
   "cell_type": "markdown",
   "metadata": {
    "slideshow": {
     "slide_type": "slide"
    }
   },
   "source": [
    "## Vergleich mit Messungen bzw. Abschätzungen des Wärmeflusses aus der Literatur\n",
    "\n",
    "Weddellmeer (Juli - September):\n",
    " * Mittelwert 14 - 38 Wm$^{-2}$\n",
    " * Maximum  > 150 Wm$^{-2}$\n",
    "\n",
    "Ackley, S., Xie, H., & Tichenor, E. (2015). Ocean heat flux under Antarctic sea ice in the Bellingshausen and Amundsen Seas: Two case studies. Annals of Glaciology, 56(69), 200-210.\n",
    "\n"
   ]
  },
  {
   "cell_type": "markdown",
   "metadata": {
    "slideshow": {
     "slide_type": "subslide"
    }
   },
   "source": [
    "<img src='Ackley_2015_table2.png'>"
   ]
  },
  {
   "cell_type": "markdown",
   "metadata": {
    "slideshow": {
     "slide_type": "slide"
    }
   },
   "source": [
    "\n",
    "# Zusammenfassung und Folgerungen\n",
    "\n",
    " * Berechnung der Meereisdicke im stationären Zustand (\"Gleichgewichts-Eisdicke\")\n",
    " * Zwei *Randbedingungen* im Modell: Oberflächentemperatur und ozeanischer Wärmefluss\n",
    " * *Parametrisierung* durch das Verhältnis aus Schnee zu Eis \n",
    " * Schnee ist ein guter thermischer Isolator. \n",
    " * Je mehr Schnee, desto geringer die resultierende Gleichgewichts-Eisdicke\n",
    " * Ozeanischer Wärmefluss begrenzt die Gleichgewichts-Eisdicke\n",
    " * Meereisdicke liefert Hinweis auf die Größe des ozeanischen Wärmeflusses"
   ]
  },
  {
   "cell_type": "markdown",
   "metadata": {
    "slideshow": {
     "slide_type": "slide"
    }
   },
   "source": [
    "# Vielen Dank für Ihr Interesse!"
   ]
  }
 ],
 "metadata": {
  "celltoolbar": "Slideshow",
  "kernelspec": {
   "display_name": "Python 3",
   "language": "python",
   "name": "python3"
  },
  "language_info": {
   "codemirror_mode": {
    "name": "ipython",
    "version": 3
   },
   "file_extension": ".py",
   "mimetype": "text/x-python",
   "name": "python",
   "nbconvert_exporter": "python",
   "pygments_lexer": "ipython3",
   "version": "3.6.3"
  },
  "livereveal": {
   "autolaunch": true
  }
 },
 "nbformat": 4,
 "nbformat_minor": 2
}
