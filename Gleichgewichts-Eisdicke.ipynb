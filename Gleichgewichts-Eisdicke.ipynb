{
 "cells": [
  {
   "cell_type": "markdown",
   "metadata": {},
   "source": [
    "# Gleichgewichts-Eisdicke und ozeanischer Wärmefluss\n",
    "\n",
    "## Wärmeleitungs-Gleichung\n",
    "\n",
    "Annahmen: Stationarität, homogenes isotropes Medium, eindimensionaler Wärmefluss\n",
    "\n",
    "$$ F=k\\frac{\\Delta T}{\\Delta x} $$\n",
    "\n",
    " * Konduktiver Wärmefluss $F$ [W/m$^2$]\n",
    " * Wärmeleitfähigkeit $k$ [W/(mK)]\n",
    " * Temperaturdifferenz $\\Delta T=T_0-T_s$\n",
    " * Schichtdicke $\\Delta x=d$ [m]\n",
    "\n",
    "## Zusammengesetztes Medium \n",
    "\n",
    "Zwei Komponenten, Eis und Schnee mit Dicke $d_i$ und $d_s$ und Leitfähigkeit $k_i$ und $k_s$. Die Gesamtdicke beträgt $d=d_i+d_s$\n",
    "\n",
    "Widerstand ist Kehrwert der Leitfähigkeit. Es gilt für Reihenschaltung $\\frac{d}{k}=\\frac{d_i}{k_i}+\\frac{d_s}{k_s}$. Umformen nach $k=\\frac{d}{\\frac{d_i}{k_i}+\\frac{d_s}{k_s}}$ und einsetzen\n",
    "\n",
    "$$ F=\\frac{\\Delta T}{\\frac{d_i}{k_i}+\\frac{d_s}{k_s}} $$\n",
    "\n",
    "\n",
    "## Parametrisierung\n",
    "\n",
    "Wir nehmen an, dass die Schneedicke $d_s$ mit der Eisdicke $d_i$ über einen Faktor $\\alpha$ zusammenhängt. \n",
    "\n",
    "$$d_s=\\alpha d_i$$\n",
    "\n",
    "## Berechnung der Eisdicke\n",
    "\n",
    "Umformen ergibt\n",
    "\n",
    "$$d_i=\\frac{\\Delta T}{F ( \\frac{\\alpha}{k_s}+\\frac{1}{k_i})} $$\n",
    "\n",
    "Annahme: konduktiver Wärmefluss ist gleich ozeanischer Wärmefluss (Stationarität)\n",
    "\n",
    "## Grenzschichttemperatur\n",
    "\n",
    "Die Grenzschichttemperatur Eis-Schnee $T_i$ errechnet sich aus Gleichsetzen der Wärmeflüsse durch Eis und Schnee. Mit Temperatur der Schneeoberfläche $T_s$ und Temperatur an der Eisunterseite $T_w=-2^\\circ$C.\n",
    "\n",
    "$$ T_i  = \\frac{\\frac{k_s T_s}{d_s}+\\frac{k_i T_w}{d_i}}{\\frac{k_s }{d_s}+  \\frac{k_i}{d_i}}$$\n",
    "\n"
   ]
  },
  {
   "cell_type": "code",
   "execution_count": 65,
   "metadata": {},
   "outputs": [
    {
     "name": "stdout",
     "output_type": "stream",
     "text": [
      "Populating the interactive namespace from numpy and matplotlib\n"
     ]
    },
    {
     "data": {
      "application/vnd.jupyter.widget-view+json": {
       "model_id": "388b3d84cf52459d97f160b1603506c3",
       "version_major": 2,
       "version_minor": 0
      },
      "text/html": [
       "<p>Failed to display Jupyter Widget of type <code>interactive</code>.</p>\n",
       "<p>\n",
       "  If you're reading this message in the Jupyter Notebook or JupyterLab Notebook, it may mean\n",
       "  that the widgets JavaScript is still loading. If this message persists, it\n",
       "  likely means that the widgets JavaScript library is either not installed or\n",
       "  not enabled. See the <a href=\"https://ipywidgets.readthedocs.io/en/stable/user_install.html\">Jupyter\n",
       "  Widgets Documentation</a> for setup instructions.\n",
       "</p>\n",
       "<p>\n",
       "  If you're reading this message in another frontend (for example, a static\n",
       "  rendering on GitHub or <a href=\"https://nbviewer.jupyter.org/\">NBViewer</a>),\n",
       "  it may mean that your frontend doesn't currently support widgets.\n",
       "</p>\n"
      ],
      "text/plain": [
       "interactive(children=(FloatSlider(value=-30.0, description='T_s', max=-2.0, min=-40.0, step=0.5), FloatSlider(value=0.1, description='alpha', max=0.5, min=0.0001, step=0.01), FloatSlider(value=7.0, description='F', max=50.0, min=0.0001, step=0.5), Output()), _dom_classes=('widget-interact',))"
      ]
     },
     "metadata": {},
     "output_type": "display_data"
    }
   ],
   "source": [
    "%pylab inline\n",
    "\n",
    "from IPython.html.widgets import interact\n",
    "\n",
    "# Globale Variablen / constants\n",
    "k_s=0.2 #W/mK snow thermal heat conductivity\n",
    "k_i=2.1 #W/mK ice thermal heat conductivity\n",
    "T_w=-2.0 # Temperatur des Ozeans am Gefrierpunkt\n",
    "\n",
    "\n",
    "def plot_ice(T_s=-30,alpha=0.1,F=7):\n",
    "    y_max=5 # Y-Achse (Dicke)\n",
    "    figure(figsize=(7,7))\n",
    "    \n",
    "    d_i=(T_w-T_s)/(F*(alpha/k_s+1/k_i))\n",
    "    d_s=alpha*d_i\n",
    "    T_i= (k_s*T_s/d_s+k_i*T_w/d_i)/(k_s/d_s+k_i/d_i)\n",
    "    \n",
    "    X=[ T_s, T_i, T_w , T_w]\n",
    "    Y=[ 0, d_s, d_s+d_i, y_max]\n",
    "    plot(X,Y, 'r-',lw=4)\n",
    "    axhline(0,c='k',linestyle=':',lw=3)\n",
    "    axhline(d_s,c='k',linestyle=':',lw=3)\n",
    "    axhline(d_s+d_i,c='k',linestyle=':',lw=3)\n",
    "    t0=-40.0\n",
    "    text(t0+1,0+0.3,'$d_s$=%1.2f m '%(d_s),fontsize=20)\n",
    "    text(t0+1,d_s+d_i-0.1,'$d_i$=%1.2f m'%(d_i),fontsize=20)\n",
    "    t1=-10\n",
    "    text(t1,0+0.3,'Schnee',fontsize=20)\n",
    "    text(t1,d_s+d_i-0.1,'Meereis',fontsize=20)\n",
    "    text(t1,d_s+d_i+0.3,'Ozean',fontsize=20)\n",
    "    \n",
    "    xlim(t0,0)\n",
    "    ylim(y_max,-0.5)\n",
    "    xlabel('Temperatur $T$ [$^\\circ$C]')\n",
    "    ylabel('z [m]')\n",
    "    \n",
    "res=interact(plot_ice,T_s=(-40,-2,0.5),alpha=(0.0001,0.5,0.01),F=(0.0001,50,0.5))"
   ]
  }
 ],
 "metadata": {
  "kernelspec": {
   "display_name": "Python 3",
   "language": "python",
   "name": "python3"
  },
  "language_info": {
   "codemirror_mode": {
    "name": "ipython",
    "version": 3
   },
   "file_extension": ".py",
   "mimetype": "text/x-python",
   "name": "python",
   "nbconvert_exporter": "python",
   "pygments_lexer": "ipython3",
   "version": "3.6.3"
  }
 },
 "nbformat": 4,
 "nbformat_minor": 2
}
