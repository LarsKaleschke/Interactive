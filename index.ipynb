{
 "cells": [
  {
   "cell_type": "markdown",
   "metadata": {
    "slideshow": {
     "slide_type": "slide"
    }
   },
   "source": [
    "# Gleichgewichts-Eisdicke und ozeanischer Wärmefluss"
   ]
  },
  {
   "cell_type": "code",
   "execution_count": null,
   "metadata": {
    "slideshow": {
     "slide_type": "slide"
    }
   },
   "outputs": [],
   "source": [
    "%pylab inline\n",
    "from ipywidgets import interact, FloatSlider\n",
    "\n",
    "# Globale Variablen / constants\n",
    "k_s=0.2 #W/mK thermische Leitfähigkeit von Schnee\n",
    "k_i=2.1 #W/mK thermische Leitfähigkeit von Eis\n",
    "T_w=-2.0 # Temperatur des Ozeans am Gefrierpunkt\n",
    "t0=-40\n",
    "t1=0\n",
    "\n",
    "def plot_ice(T_s=-20,beta=0.15,F=10):\n",
    "    # Berechnungen der Gleichgewichts-Eisdicke\n",
    "    d_i=(T_w-T_s)/(F*(beta/k_s+1/k_i))\n",
    "    d_s=beta*d_i\n",
    "    T_i= (k_s*T_s/d_s+k_i*T_w/d_i)/(k_s/d_s+k_i/d_i)\n",
    "    \n",
    "    # Plot\n",
    "    y_max=5 # Maximum der Y-Achse (Dicke)\n",
    "    fig=figure(figsize=(14,7))\n",
    "    ax=fig.add_subplot(1,1,1)\n",
    "    X,Y=[ T_s, T_i, T_w , T_w],[ 0, d_s, d_s+d_i, y_max]\n",
    "    plot(X,Y, 'r-',lw=5)\n",
    "    layer(ax,0.0-0.5,0.5,'Atmosphäre ','#c0c0f0')\n",
    "    layer(ax,0.0,d_s,'Schnee: $d_s$=%1.2f m, $T_s=$%2.1f $^\\circ$C'%(d_s,T_s),'#f0f0f0')\n",
    "    layer(ax,d_s,d_i,'Meereis: $d_i$=%1.2f m '%(d_i),'#a0a0a0')\n",
    "    layer(ax,d_s+d_i,y_max-(d_s+d_i),r'Ozeanwärmefluss: $F_\\uparrow=$%2.1f W m$^{-2}$'%(F),'#5050f0')\n",
    "    xlim(t0,0)\n",
    "    ylim(y_max,-0.5)\n",
    "    xlabel('Temperatur $T$ [$^\\circ$C]',fontsize=20,color='r')\n",
    "    ylabel('y [m]',fontsize=20)\n",
    "    xticks(fontsize=20,color='r')\n",
    "    yticks(fontsize=20)\n",
    "\n",
    "def layer(ax,y,d,description,color):\n",
    "    xy=[[t0,y],[t1,y],[t1,y+d],[t0,y+d]]\n",
    "    poly = Polygon(xy, facecolor=color, edgecolor=color,alpha=1.0)\n",
    "    ax.add_patch(poly)\n",
    "    text(t0+1,y+d/2.0,description,bbox=dict(facecolor='#f0f0f0', edgecolor='#f0f0f0',alpha=0.5),fontsize=20)\n",
    "\n",
    "\n",
    "def start_model():\n",
    "    res=interact(plot_ice,T_s=FloatSlider(description=r\"$T_s$ [$^\\circ$C]\",value=-20,min=-40,max=-2.5,step=0.5),\n",
    "             beta=FloatSlider(description=r\"$\\beta=\\frac{d_s}{d_i}$\",value=0.15,min=0.0001,max=0.5,step=0.01),\n",
    "             F=FloatSlider(description=r\"$F$ [W m$^{-2}$]\",value=10,min=2,max=50,step=0.5))"
   ]
  },
  {
   "cell_type": "code",
   "execution_count": null,
   "metadata": {
    "slideshow": {
     "slide_type": "subslide"
    }
   },
   "outputs": [],
   "source": [
    "def layer(ax,y,d,description,color):\n",
    "    xy=[[t0,y],[t1,y],[t1,y+d],[t0,y+d]]\n",
    "    poly = Polygon(xy, facecolor=color, edgecolor=color,alpha=1.0)\n",
    "    ax.add_patch(poly)\n",
    "    text(t0+1,y+d/2.0,description,bbox=dict(facecolor='#f0f0f0', edgecolor='#f0f0f0',alpha=0.5),fontsize=20)\n",
    "\n",
    "\n",
    "def start_model():\n",
    "    res=interact(plot_ice,T_s=FloatSlider(description=r\"$T_s$ [$^\\circ$C]\",value=-20,min=-40,max=-2.5,step=0.5),\n",
    "             beta=FloatSlider(description=r\"$\\beta=\\frac{d_s}{d_i}$\",value=0.15,min=0.0001,max=0.5,step=0.01),\n",
    "             F=FloatSlider(description=r\"$F$ [W m$^{-2}$]\",value=10,min=2,max=50,step=0.5))"
   ]
  },
  {
   "cell_type": "code",
   "execution_count": null,
   "metadata": {
    "slideshow": {
     "slide_type": "slide"
    }
   },
   "outputs": [],
   "source": [
    "start_model()"
   ]
  },
  {
   "cell_type": "markdown",
   "metadata": {
    "slideshow": {
     "slide_type": "slide"
    }
   },
   "source": [
    "\n",
    "\n",
    "## Wärmeleitungs-Gleichung\n",
    "\n",
    "Annahmen: Stationarität, homogenes isotropes Medium, eindimensionaler Wärmefluss in y-Richtung \n",
    "\n",
    "$$ F=k\\frac{\\Delta T}{\\Delta y} $$\n",
    "\n",
    " * Konduktiver Wärmefluss $F$ [W/m$^2$]\n",
    " * Wärmeleitfähigkeit $k$ [W/(mK)]\n",
    " * Temperaturdifferenz $\\Delta T=T_0-T_s$\n",
    " * Schichtdicke $\\Delta y=d$ [m]"
   ]
  },
  {
   "cell_type": "markdown",
   "metadata": {
    "slideshow": {
     "slide_type": "subslide"
    }
   },
   "source": [
    "## Zusammengesetztes Medium \n",
    "\n",
    "Zwei Komponenten\n",
    "\n",
    " * Eis der Dicke $d_i$ mit Leitfähigkeit $k_i$ \n",
    " * Schnee der Dicke $d_s$ mit Leitfähigkeit $k_s$\n",
    "\n",
    "bestimmen die Gesamtdicke $d=d_i+d_s$ mit der Leitfähigkeit $k$.\n",
    " \n",
    "Berechnung der Wärmeleitung geschieht in Analogie zum elektrischen Strom. Widerstand ist Kehrwert der Leitfähigkeit. Es gilt für eine Reihenschaltung, dass der Gesamtwiderstand die Summe der Einzelwiderstände beträgt:\n",
    "\n",
    "$$\\frac{d}{k}=\\frac{d_i}{k_i}+\\frac{d_s}{k_s}$$\n",
    "\n",
    "Umformen nach $k=\\frac{d}{\\frac{d_i}{k_i}+\\frac{d_s}{k_s}}$ und Einsetzen ergibt:\n",
    "\n",
    "$$ F=\\frac{\\Delta T}{\\frac{d_i}{k_i}+\\frac{d_s}{k_s}} $$\n"
   ]
  },
  {
   "cell_type": "markdown",
   "metadata": {
    "slideshow": {
     "slide_type": "subslide"
    }
   },
   "source": [
    "## Parametrisierung\n",
    "\n",
    "Wir nehmen an, dass die Schneedicke $d_s$ mit der Eisdicke $d_i$ über einen Faktor $\\beta$ zusammenhängt. \n",
    "\n",
    "$$d_s=\\beta d_i$$"
   ]
  },
  {
   "cell_type": "markdown",
   "metadata": {
    "slideshow": {
     "slide_type": "subslide"
    }
   },
   "source": [
    "## Berechnung der Eisdicke\n",
    "\n",
    "Umformen ergibt die Eisdicke im stationären Zustand\n",
    "\n",
    "$$d_i=\\frac{\\Delta T}{F ( \\frac{\\beta}{k_s}+\\frac{1}{k_i})} $$\n",
    "\n",
    "Annahme: konduktiver Wärmefluss ist gleich ozeanischer Wärmefluss (Stationarität)"
   ]
  },
  {
   "cell_type": "markdown",
   "metadata": {
    "slideshow": {
     "slide_type": "subslide"
    }
   },
   "source": [
    "## Grenzschichttemperatur\n",
    "\n",
    "Die Grenzschichttemperatur Eis-Schnee $T_i$ errechnet sich aus Gleichsetzen der Wärmeflüsse durch Eis und Schnee. Mit Temperatur der Schneeoberfläche $T_s$ und Temperatur an der Eisunterseite $T_w=-2^\\circ$C am Gefrierpunkt (konstant).\n",
    "\n",
    "$$ T_i  = \\frac{\\frac{k_s T_s}{d_s}+\\frac{k_i T_w}{d_i}}{\\frac{k_s }{d_s}+  \\frac{k_i}{d_i}}$$\n",
    "\n",
    "## Ozeanischer Wärmefluss\n",
    "\n",
    "Der Wärmefluss vom Ozean in das Eis $F$ wird bedingt durch turbulenten und diffusiven Wärmeaustausch und ist abhängig von Vermischung und Schichtungsstabilität. "
   ]
  },
  {
   "cell_type": "markdown",
   "metadata": {
    "slideshow": {
     "slide_type": "slide"
    }
   },
   "source": [
    "\n",
    "# Zusammenfassung und Folgerungen\n",
    "\n",
    " * Berechnung der Meereisdicke im stationären Zustand (\"Gleichgewichts-Eisdicke\")\n",
    " * Schnee ist ein guter thermischer Isolator, \n",
    " * Je mehr Schnee, desto geringer die resultierende Gleichgewichts-Eisdicke\n",
    " * Ozeanischer Wärmefluss begrenzt die Gleichgewichts-Eisdicke\n",
    " \n",
    "\n"
   ]
  }
 ],
 "metadata": {
  "celltoolbar": "Slideshow",
  "kernelspec": {
   "display_name": "Python 3",
   "language": "python",
   "name": "python3"
  },
  "language_info": {
   "codemirror_mode": {
    "name": "ipython",
    "version": 3
   },
   "file_extension": ".py",
   "mimetype": "text/x-python",
   "name": "python",
   "nbconvert_exporter": "python",
   "pygments_lexer": "ipython3",
   "version": "3.6.3"
  }
 },
 "nbformat": 4,
 "nbformat_minor": 2
}
